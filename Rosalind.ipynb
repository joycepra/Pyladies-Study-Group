{
  "nbformat": 4,
  "nbformat_minor": 0,
  "metadata": {
    "colab": {
      "name": "Rosalind.ipynb",
      "provenance": [],
      "collapsed_sections": [],
      "authorship_tag": "ABX9TyNhhuYw2KOQyO7PMXB4dkeX",
      "include_colab_link": true
    },
    "kernelspec": {
      "name": "python3",
      "display_name": "Python 3"
    },
    "language_info": {
      "name": "python"
    }
  },
  "cells": [
    {
      "cell_type": "markdown",
      "metadata": {
        "id": "view-in-github",
        "colab_type": "text"
      },
      "source": [
        "<a href=\"https://colab.research.google.com/github/joycepra/Pyladies-Study-Group/blob/main/Rosalind.ipynb\" target=\"_parent\"><img src=\"https://colab.research.google.com/assets/colab-badge.svg\" alt=\"Open In Colab\"/></a>"
      ]
    },
    {
      "cell_type": "markdown",
      "metadata": {
        "id": "Du_1BiqXsxaK"
      },
      "source": [
        "#Counting DNA Nucleotides"
      ]
    },
    {
      "cell_type": "markdown",
      "metadata": {
        "id": "nmFwFU5Ks2wS"
      },
      "source": [
        "A string is simply an ordered collection of symbols selected from some alphabet and formed into a word; the length of a string is the number of symbols that it contains.\n",
        "\n",
        "An example of a length 21 DNA string (whose alphabet contains the symbols 'A', 'C', 'G', and 'T') is \"ATGCTTCAGAAAGGTCTTACG.\"\n",
        "\n",
        "Given: A DNA string s of length at most 1000 nt.\n",
        "\n",
        "Return: Four integers (separated by spaces) counting the respective number of times that the symbols 'A', 'C', 'G', and 'T' occur in s."
      ]
    },
    {
      "cell_type": "code",
      "metadata": {
        "id": "1v2Pp6lLRSDS"
      },
      "source": [
        "seq = \"AGCTTTTCATTCTGACTGCAACGGGCAATATGTCTCTGTGTGGATTAAAAAAAGAGTGTCTGATAGCAGC\"\n",
        "\n",
        "A= seq.count('A')\n",
        "C = seq.count('C')\n",
        "G = seq.count('G')\n",
        "T = seq.count('T')\n",
        "print(A, C, G, T)"
      ],
      "execution_count": null,
      "outputs": []
    },
    {
      "cell_type": "code",
      "metadata": {
        "id": "s2ViC5hptcu5"
      },
      "source": [
        "seq = '''ACATACAACGCTTAAAACCTAAGGTGTGATGAACTATTTCATAATGAGGGTCTTAACATAGAGGTGAT\n",
        "GGGGGTGAAGCTTCTGCTGATGCGGTCGAATAGACGTATTACGAAGCCTATAAACCTTCATGGAAGTTGCTTTCGGCC\n",
        "ACCAGTTTCATGTTCCGCGACATGATACGATATGATGATGACGATTATAGACAGTCCTCGCGATATGCTCCTACGAAA\n",
        "CTCGCGCTCTAGAAGCAGTGTCGGTCACATATTACTGAAGTGAAGGCCGGAGTTGCCACGGCTAACTGAATCATGGCG\n",
        "GACTTTAGCATATAGAGCAACCAAATTGCGCTGTAACGAGCTCTTTCAGTAGTCCGACTTTCTTACTACCCAGTTTCG\n",
        "AGAACTGTGCGCCGACAAAATTACGGGACCGCTGGTAGCCAGCAATTCTGTACTATCAAATCCCTGTGACCGACTCTC\n",
        "GAGACCGACCCATATGCGAAAAATGACGTAATCCGCTTATATTGGACACTATCAATAGTATCTATATCCTCACCTAGC\n",
        "GGTATAGGTACCGTTGGAATTATATCTCTTGTTGGTCCAATCGAACGGTTATAGGAATGGGATTTATTCGGTGTTTAG\n",
        "ATTATATACATTTGCCCCTCGAGAGTTCCGTGGAGTAGGCTCTCGCCCTGCCTTTACGCAAGCCGTGAGGGTAAACCC\n",
        "CGGGTCCGCCAACGTCTAAGTGGTGTTCCCGTACCAAAACCAGTATTGGATCGTTCTTTGGTCTTTCCACAGTATAAG\n",
        "TCGGTCGGGCGGGGTGATGGTCGGCACGGCAGTCATGTCTACTACGTCCGGAAAAGTCGAATAGCTGGGGTCCCAACC\n",
        "AGGGTAGCATTCAATCAAACGTACGAGATTTAGTTCGCCAAACTTAAGAACCACTTATGAGTAAGAACGGGTGCCCGG\n",
        "GTAAGTGGCAGTTTACCTCAGCCGTTTGTTCGTGCAGACAGTGCGAACCAATCG'''\n",
        "\n",
        "A= seq.count('A')\n",
        "C = seq.count('C')\n",
        "G = seq.count('G')\n",
        "T = seq.count('T')\n",
        "print(A, C, G, T)\n"
      ],
      "execution_count": null,
      "outputs": []
    },
    {
      "cell_type": "markdown",
      "metadata": {
        "id": "9rslRLcJuJr2"
      },
      "source": [
        "#Transcribing DNA into RNA"
      ]
    },
    {
      "cell_type": "markdown",
      "metadata": {
        "id": "5eeKcAqmudY_"
      },
      "source": [
        "An RNA string is a string formed from the alphabet containing 'A', 'C', 'G', and 'U'.\n",
        "\n",
        "Given a DNA string t corresponding to a coding strand, its transcribed RNA string u is formed by replacing all occurrences of 'T' in t with 'U' in u.\n",
        "\n",
        "Given: A DNA string t having length at most 1000 nt.\n",
        "\n",
        "Return: The transcribed RNA string of t."
      ]
    },
    {
      "cell_type": "code",
      "metadata": {
        "id": "w4H6EyY9uevW"
      },
      "source": [
        "t = \"GATGGAACTTGACTACGTAAATT\"\n",
        "\n",
        "u = t.replace(\"T\", \"U\")\n",
        "\n",
        "print(u)"
      ],
      "execution_count": null,
      "outputs": []
    },
    {
      "cell_type": "code",
      "metadata": {
        "id": "627Ybcw5um87"
      },
      "source": [
        "seq = '''TGCCGCCTGTATCAGCAAGATTATGACAACACGCGTTTAATCTGGAATGCTAACCAGCTCAGCGGCTACA\n",
        "CGAGCGGAAATATGTTGGTGCATATATCAGCTTCTACGGGTGCGTAGACTCCGTGGCACCGTATTGGATGTCGTAAGAC\n",
        "TAGAAGTTGAATTCTACAGTTCGGAGAATTCAATGTAGTCCCCCTATAAGTAGGAAGAATCTTGATTGTGATCTGAAAG\n",
        "GGTTCCCGGCGTCCGTATCAAAGCCTGAAGTCAGAGCTGATTTGACCTGTTCCACAATCCACATTCCAACCGGTGTTCT\n",
        "AATGTACCATTCATGCTACCCAGTCCTAACTGCGAGTGCTATCGATTACGGTAGTTCGACTGACGTGCAGTCTATATTG\n",
        "ATCCACCGACGAACTGTGAAGCTGCATTGACAGGAACAATGCACTAAACCATACCCAATGGGGGGTTCTCTAGACAGGC\n",
        "TGAATGGTTTCAGAACTGATTTAGTGCGTCTATACAGTAGCTACATTTGACCGGACGCTGCTGACAGGGGCCGACGACA\n",
        "AACGACAACTGGTCTGTATTGGCCTAAAGGTTAGTGTATTAAAGGGCGGGAATCTTTTGTCGAGTTCTAATCTGTACTG\n",
        "CACTGGGATAACTATGATTCGGCGCGTCTCTCTATGTTTGTTTGAGGGGCCGCGCGAGACTGCGCAGATAGGCTCCTCT\n",
        "GCCGCCGAGTCATCTCTTCGTTGACGCGCACTTTAGACCGGCTACCGTTTCCACGGCCTTTCCCGCATCAAACAGCGTA\n",
        "CGCGGTCATACTCTAAGAAAGCGGCGTGCATAGGACGGAACCAGATTCGAAATCGCGAAATGCGCGCTTAAAAGTGTGA\n",
        "GTCGTGATTTTGTACTGGGGTGTCAGTCTGGCCTTTCTAGTTGCGCACTACTCGTGGGGGCGAAGATAATGCAAGTTGT'''\n",
        "\n",
        "seq_trancribed = seq.replace('T','U')\n",
        "\n",
        "print(seq_trancribed)"
      ],
      "execution_count": null,
      "outputs": []
    },
    {
      "cell_type": "markdown",
      "metadata": {
        "id": "klLePANdvR7f"
      },
      "source": [
        "#Complementing a Strand of DNA"
      ]
    },
    {
      "cell_type": "markdown",
      "metadata": {
        "id": "_Ls1RzyHvZZ_"
      },
      "source": [
        "In DNA strings, symbols 'A' and 'T' are complements of each other, as are 'C' and 'G'.\n",
        "\n",
        "The reverse complement of a DNA string s is the string sc formed by reversing the symbols of s, then taking the complement of each symbol (e.g., the reverse complement of \"GTCA\" is \"TGAC\").\n",
        "\n",
        "Given: A DNA string s of length at most 1000 bp.\n",
        "\n",
        "Return: The reverse complement sc of s."
      ]
    },
    {
      "cell_type": "code",
      "metadata": {
        "id": "qY658eMavaP6"
      },
      "source": [
        "seq = 'GTGGATCGACACCATATGTCCCTATTACCTGGCGTTTCTGGTCACTGCCATCACTCCGAGACTTTGTGCACAGGCGCAGCTTTCACCAACAGAGGGGAGTCTAAGAGACAGCCGTCACGCCGTTTAGAACGTCCGCTTAGACAGGGGGGCTTCGTCAGCTCTTGCCCGATACACTGCAAATGGTCGTCCTTTGCGGTACGCGCATCTGTGCCCCTAACAACCGTTCAGCAAAGGTGATGGTAGTCAGACTAATCCAGTGTTTGATTGGCTATTGGGTGGCACCGGTATATTATCAGCTAAACCAGTAATTGGGTGTCTCTAGAGGTCGAGTAACAATTCACATCTTAACTCATTACTTGTATGCCTACCTACATTCGATGGCACCTGACGTGGACTGGGTAGTTAAAGTAGGTCTACGAGTCACGCGCCATCGTGATCGTATTCTCAAGTTTCTAGTCGAGTTTCCACGGTGTTATTGCAGGCAGTCCCCCCCTGTGAAATGGCTCATGACTTCTAACTATAGCTCCTAACATGCCGTTAGTATGTCGTATCTGGGCAATACCGGGCCCATTCTACTTGCGATCACTTCGTAAACTGCTCACTCGCGGTACGTTTGTGAGCAATGCGAGCTGTTAATGATATTGAAATAATCGTGGGCACCAAGGGTCACCATGCACCGGAAGTCTGAATTTTCATTCAAGAGGTAGTTCCTCGAGACGTCTATGAGCGCGTAGGGTATCCCTCACTGGCGTCGTAACCCTGCGCGACCAAGTTAACGTTTCGCCAACTTTGCCTTGCCCGAACGCCTAGTGGCCGGTAATTAGATGACCTGACGACCACTGACTCGCTTGCCTCTTGCTTAAATGGCATGTTCCTAATGCAACCCCTGGCGCTACATATAAATTGAGCGTGTAATACGTAATCTTTAACCAAACCCGCCTCCAGATCGCGGTGCGAAGATCAGGCCACGTGATGCCGCTTTA'\n",
        "\n",
        "seq_reversa = seq[::-1]\n",
        "\n",
        "dict_comp = {'A': 'T', 'T': 'A', 'G': 'C', 'C': 'G'}\n",
        "\n",
        "seq_complement = seq_reversa.translate(seq_reversa.maketrans(dict_comp))\n",
        "\n",
        "print(seq_complement)\n",
        "\n",
        "\n"
      ],
      "execution_count": null,
      "outputs": []
    },
    {
      "cell_type": "markdown",
      "metadata": {
        "id": "BrIbKA3dALVy"
      },
      "source": [
        "# Computing GC Content"
      ]
    },
    {
      "cell_type": "markdown",
      "metadata": {
        "id": "S-eQG8_rA_oY"
      },
      "source": [
        "The GC-content of a DNA string is given by the percentage of symbols in the string that are 'C' or 'G'. For example, the GC-content of \"AGCTATAG\" is 37.5%. Note that the reverse complement of any DNA string has the same GC-content.\n",
        "\n",
        "DNA strings must be labeled when they are consolidated into a database. A commonly used method of string labeling is called FASTA format. In this format, the string is introduced by a line that begins with '>', followed by some labeling information. Subsequent lines contain the string itself; the first line to begin with '>' indicates the label of the next string.\n",
        "\n",
        "In Rosalind's implementation, a string in FASTA format will be labeled by the ID \"Rosalind_xxxx\", where \"xxxx\" denotes a four-digit code between 0000 and 9999.\n",
        "\n",
        "Given: At most 10 DNA strings in FASTA format (of length at most 1 kbp each).\n",
        "\n",
        "Return: The ID of the string having the highest GC-content, followed by the GC-content of that string. Rosalind allows for a default error of 0.001 in all decimal answers unless otherwise stated; please see the note on absolute error below.\n",
        "\n"
      ]
    },
    {
      "cell_type": "code",
      "metadata": {
        "colab": {
          "resources": {
            "http://localhost:8080/nbextensions/google.colab/files.js": {
              "data": "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",
              "ok": true,
              "headers": [
                [
                  "content-type",
                  "application/javascript"
                ]
              ],
              "status": 200,
              "status_text": ""
            }
          },
          "base_uri": "https://localhost:8080/",
          "height": 111
        },
        "id": "cSCYs-I7voin",
        "outputId": "68040e61-15ab-4204-b443-9bb6a40a9d5f"
      },
      "source": [
        "from google.colab import files\n",
        "files.upload()"
      ],
      "execution_count": null,
      "outputs": [
        {
          "output_type": "display_data",
          "data": {
            "text/html": [
              "\n",
              "     <input type=\"file\" id=\"files-d2932c6f-59ea-4673-83b0-8230dd9ede6a\" name=\"files[]\" multiple disabled\n",
              "        style=\"border:none\" />\n",
              "     <output id=\"result-d2932c6f-59ea-4673-83b0-8230dd9ede6a\">\n",
              "      Upload widget is only available when the cell has been executed in the\n",
              "      current browser session. Please rerun this cell to enable.\n",
              "      </output>\n",
              "      <script src=\"/nbextensions/google.colab/files.js\"></script> "
            ],
            "text/plain": [
              "<IPython.core.display.HTML object>"
            ]
          },
          "metadata": {}
        },
        {
          "output_type": "stream",
          "name": "stdout",
          "text": [
            "Saving rosalind_gc.fasta to rosalind_gc.fasta\n"
          ]
        },
        {
          "output_type": "execute_result",
          "data": {
            "text/plain": [
              "{'rosalind_gc.fasta': b'>Rosalind_7512\\nACGGCTAGTTACCAGCCAGCGAGACACCTGGTATCATTGTTGCGATGACTATCGGACGTC\\nGAAGTCTCTAAGCTTCCCTAGCATTTCCGTGACTTCGACTCCCAAGGAAAACCCAAACGA\\nGAGGGATTCAGGGCACGAATTTGAAAAGCCCCAATTATAACTGGAACTTTTGCCGATGTC\\nCACCGATATGGGCTATTCGTATGAGACATCACCTTGTCTCGAAGAGGTTGCCAGTTGGGA\\nCCTTAACACAGCATCAGGCGATGAGGGCACGCATTCCAATAACACACATAACAGGGACTT\\nGTACGTAAAAGGTAGTCAAGCATAAGGTGCAGACGCCTAGGTGGGCGCGAATAAAGGCCA\\nGGGTACAGGAGATTTTCTTAATTTTGTGCGGCCCTCGACTTTTTGCCAGAGTTAATTGGG\\nGTCTCGTCTTCCCCCGTCGACTAGGATGCTGGGGTGGATCTGACATACGAGAGTACGCGA\\nAACCCCATACCCGTTACAATGTTCTCAATAGCTACGGCGTGGTCCCTTGGTGGAATGCTG\\nCGCCATTAGGAGGTGGCCGTCGACCGGACATACTTTGCGTCATCACAGCTCCAACGCATG\\nTACCTGAGCCTGCGCAGCAATCTAGCAACTGGGTCCGATCATTGGGGAACTGTTGTTTGG\\nAAACTATCTTTCATAATTGTAAGCCTCACCGATCGATGGCCCCAGGCATGTGCCCGATAG\\nAATAGTCGAGGGGACCACTTAGGCGCGAAGGGACATCTTGTGCAAAAAAACTCTTATTGC\\nGTTGAATTCCCAAAATACGGCGCAACCTTTGGGTACAAGTAGAGGAAGGATATGCGATAG\\nTATCGAGATAGACTGCCCAGTAAGCACCGATATACGGACTGGACCGGGGGCTTTATCTTG\\nTCATAGAAGGACGTTACCAAGCGTAAGTCCGGAGTCCCGGGGTGGTATCGCGCG\\n>Rosalind_4132\\nTCCAGTGGAAACCGGCGAAGTGTAACATTCGATCCACACCGCGTTTCGATGGTATGATTC\\nTTAAATCCTTGGTCTCAATTATTACCTGAATTAGGTCCCGTCAGTCACCGGTGTATCACA\\nACGACGTGGATACTCGTGGGGACACTATTAGGACATTACCGCGTATAAAGAGGACGCAGG\\nGGACTATTAGCTATACTTAAGGAAGCTCCCGGTCAAAACGGGCAGTAGGCCGTTAACGAG\\nATTCCGTAGGTGACTATCTCACAGTAACCGAGAGGGGATAAATAAACGACACCTGTTCCT\\nATCACGTCGCTGGTAATGCGGGTAGAGGGCCGAAGTTCTCGCGCTACGCTAAATATGGAT\\nGGTAGTCAATCAAGGCGAAGTGTGTACCCTCAGACACGTCACAGGTCCGGAGAAATAGTC\\nGCAGGGCCTCGAAACCCTAAATTCTCGGTACTCGACTCGGGACATCGTCACCACGGGCAA\\nTCGCTGTCATAATGATTACGACCAATATTGCGTGACACTATATGCCAATTGGGCCATGCG\\nCACTGCTGGTTGGCCTGTGTCGCGCCGCCTGTGGCTAAGTCTAGGTGCTCGTTCCCATAT\\nTCTCGATCGGGATTCGTTCCCCGCTCGCGTAATAACCGCTAGAATTCAGGGCGCACGATT\\nGATACCTGGCGGGGGACACACTAAACTCGTGCAAGAGTGCTCCTTGCGCTCCGTCACGTC\\nAATAGGCCCAAATGGTAGTCCCGGCTATCGCCTCTAAGTAGGTGTACCCAGTATGCCTAG\\nGAATACATAAGATTTAGTTAATAAGGCGGCACAGTCATACACGTGGACCCAGACAGATAT\\nCCAGACACTATAGTAAGATAAGAGAGAATCTCATCCGCTATTGTGAGCAATCCTTCCAAC\\nGGCTGTGAGCTCGAGCTTTAAACTAGTACCTGCCGCTCCAGGGAGGC\\n>Rosalind_3302\\nTTCACGAGGGTTCCAACGGATTTTGCCGCACTTATACAAGCGGCGAAACACGCTCTGTTC\\nCAAGTCTGGATAACATAGAAGTGGCAGCCCAGCAAGATAACCCGATGTATGCGGCTTCCA\\nATCAACACGGAAGGCGTTTGGCGAACCCCACCTCTAGTGGGTCGAATACACAGCCCAGTT\\nTAAGGTTACTCTCCGAATTTAGACGTTTGTCGCGTCTATATTTAATATCGTGATCAATTC\\nTTACTACGAACCGCTCTAACGTACGGTTCCCGGGAAAAAAGGTTCGCTCAAGTCAGACTA\\nGATGAGCCAGGAAGCTTTATCGGCATTGAGGGGTAGACTCGGCCTCCATTCAGAGTCTAA\\nCTTGCACGGTTATTTTCCGGACTCATATCTTGTCCATTGATGCCCGCGCTACCCGCTCTT\\nGGAATATCGAGCGTTGCTGAACGGATAACGAATCATCGAGCCCCCGGACTGGGAAGATAC\\nGGGCTGTTTTACGACCAATCTATAGAGAACGCCCAATCTCCCTTAGCCCTCATGGGAGCG\\nCGCCAATCGGGGGCTCGGTCCGCGCATTTAGGAACTGGACACCAAGTAGGCAGGATGTTT\\nTAACATGCTCCAAAACAGCCCTGACGAATGTGGAGTTACCGTGCATGATAACATTAGCGG\\nAACAAGATGGGCAATGACGCGTACTTCTGAGAATCGTGATGGGAAAAAAACGAACCGAGA\\nCTTGTACGCCCGGCGGTAGCAGAAACCTTCGACTAACAGAAGTCTGGGGGCCCGTATAAG\\nGCTTCGCCAGTTCTTGGCGCCTCGAAGTGGACGGGAATCGGTTTTTTGGCAACAGGCATT\\nATGGTGAGCGAATATGC\\n>Rosalind_9187\\nCCCATGGCGCTGCTCAACTTTGCAGTCAGTCTCCCGGGATCACCCCGAGATTCGTAGCTC\\nGAGTGAGTCAACTCAATGACCCTTAATCCCATGATTGAATGTACAATTTCGGGGGATATC\\nGATGGATTATTCCTCAGACCTCCCCATCTTCTATCCGTGGCTTGACGGATGATGGATCTG\\nAGTTAGACATCCGTTAAGTAGTCGTCTTAATAGGATCTAGGTAAGCTCGGCCACGGGAGC\\nCTCTGTCTTCAAACGAGTCGCTTAGCCAGTCAACGGTGAATGTCTCCCTTACCTAACAAT\\nTCAAAGGCGGGGGAAGCCCGGCCTATCTGCGGCGTGATTTGCAGCCGAAGCACTTATACA\\nGTGCGTGTATTACAGACTCGCTCGGGGGTCCGCGAGACTGACCTCATAGATAACGCAACC\\nAAAGTATAACCAAATACGAGCTTACACTCGTGAGGTCTACCTACAAAATCATCACAAGTC\\nGATAACCGCGGGCTGGCGAGACAGGTATGGACGCTCGGACACGTGGCGTCCCCCCCCGCC\\nGCCAAAAAATTGATCCCAATGGATGTCTTACCTAATTCACTAAGGGGGCTGCCCTGAACG\\nTGGCTCGGTGGGTTTTCCTCACTCGGCTTGCCCATGCCCCTTGAGTTTCCCTCGGGGCAC\\nTAACCATTATGGATATGGCACTTTTGATCTATCCCGAGCACGGGCACCGCCACTGTCTCA\\nCAGTGAGCCATAAACTATTTAGAGTCTATGTCGGCTTGTGGTTGAGTGTATGGACCCGTA\\nGACTTCAAGCTGGATCTTGGCGGATGCGCCAAGATTCGAGGAAAAAGAGAAGTGAATTTC\\nGAAAGCGC\\n>Rosalind_9502\\nAATTTCGAAATGATGTTAGAGGCAATCCTCTTTTCGAATGACACATCGTTCTTCGGGAGT\\nATCTTTACGGATCCTCGTTGACTCCTTGAGGCGTCGGAGCCCTAAGCCAAAGTTGCACGC\\nAGACTCAGCGTCTTAGCGTGAGGCCGGCGTCTGGGCTCATCGGCGAGTCCTTTGAATTCT\\nAATTTGAGTTGCATTTCTTAGACTTTCCCCAACGTTTAAGGTTTCTGCGTAGTTACTTGT\\nCATATGGAAAGGGCGGACTCCTAACGCAGTAGCGCCATACCTATTAGCGCGCGCGGAGTA\\nTATGCACTAAAGTCGACCCTTAGTTGGTCTGTTCGAGGAGAAGACATTACATATGTTATA\\nCGTGCTGGCCAGTACCCTGAACTAAAGGAAGACAGGTTAGTTCTCTGCGTGTCCCACTGC\\nCGCTCTTAGTAAATGAATCAGACCCCGACGTCTTCCCGACCCGTCCGCCTGTTTCGTACG\\nCAACCTTTGCTAGGCAGAACCGGACTAAGAGGTTTAATTCCCACTCGTACGTCAAGTTCC\\nTACCCATTCACCCATTTCACTTTGGCAAGGGCTGCGGTATACCCTCAGGATATACCTAGT\\nCATGGATAGGGTCGCTGCAACCCTCGAATGGGCAGCGAAAATTTAAAAGGATGATCGACG\\nCCGGGGAAGCCATCCTAGAGACCGCGTTTGCTCGGTTTAGAGGCGTTGTCTATTGCTCGG\\nCGCAGTGTGAATGCATTGTTTGGTCGGAGTCGAAGTCAGCGTTCGACCAATTTCTGTCGT\\nATCTCACAGGGGAAGATCTCTGGCCAGCCCACCTGCACGCGCTTCCACAAGGTATCAGCA\\nTCCCGGATTGTTATGTTTACTGTTCCGAGTGGCTTGCGACGTACCGAATTCGCACTCAGG\\nATACTTTATTATGGTAATGGCTC\\n'}"
            ]
          },
          "metadata": {},
          "execution_count": 5
        }
      ]
    },
    {
      "cell_type": "code",
      "metadata": {
        "id": "UQpxXdLNIhg1"
      },
      "source": [
        "pip install biopython"
      ],
      "execution_count": null,
      "outputs": []
    },
    {
      "cell_type": "code",
      "metadata": {
        "id": "3DkCVWAPBB3F"
      },
      "source": [
        "from Bio import SeqIO\n",
        "\n",
        "perc = 0\n",
        "for record in SeqIO.parse(\"rosalind_gc.fasta\", \"fasta\"):\n",
        "    C = record.seq.count('C')\n",
        "    G = record.seq.count('G')\n",
        "    perc2 = ((C + G)/len(record.seq))*100\n",
        "\n",
        "    if perc2 > perc:\n",
        "      perc = perc2\n",
        "      id = record.id\n",
        "print(id)\n",
        "print(\"%0.6f\" % perc)\n",
        "\n",
        "\n"
      ],
      "execution_count": null,
      "outputs": []
    },
    {
      "cell_type": "markdown",
      "metadata": {
        "id": "EjwEgT3nMCer"
      },
      "source": [
        "#Counting Point Mutations"
      ]
    },
    {
      "cell_type": "markdown",
      "metadata": {
        "id": "MfuBHkvEMGix"
      },
      "source": [
        "Given two strings s and t of equal length, the Hamming distance between s\n",
        "and t, denoted dH(s,t) dH (s,t), is the number of corresponding symbols that differ in s and t. See Figure 2.\n",
        "\n",
        "Given: Two DNA strings s and t of equal length (not exceeding 1 kbp).\n",
        "Return: The Hamming distance dH(s,t) dH (s,t)."
      ]
    },
    {
      "cell_type": "code",
      "metadata": {
        "id": "oKHvWnEcMeoo"
      },
      "source": [
        "s = 'TATGGGCACACACGCCATCGCGTTTGGGTGAAACGACGATCATGTCAAAGTAATCGTTTTGGTAACCGTTTTTCTTTTCGTCGTGGGATTAGGGTCATATGCTTGTATAGCAAGGGGGTTTGACGTGTATGCGTTACGCATCTCAGTTAGGAGAGTCTATTCTGCTCAAACTATTGAAATAGTTGTTGTATGCACCGCAGCGACATGCATATGATAGAAGCACTAGCATTGTACCAAAGTACAATTTAGCTCATCGTTCCTAAACATGTGTTGCGAAACAACAAGTTTATTCATACCACTCCCCCTACCTAATACAGATGAGTTGGATCTTGGTAAACCAGCTGCTAACAACTAAGTGGGTCTGCATTCACCATTGGTTTATACAGGTTAAAATTGTAGGTTACAGTTAGGGACCGTACCCCGATCCATTGCTGAGTATCTAGGTAAGCCCTTTTTTCTGAGACTCGGGGGCTCCGGTTGGAAAGACTCTGTTCGTAGACAGAGGGGTCAATGTGGCACATTTCATGATAGCTGTGAGTTGGCGCAGATATTAATCATCTTCAGCTAGGGTTTCGGAGCGACTCAAAGGAGTCCGTCTTAAGCAGGGATCTACCAGTATTTCAGTACGCAAGTGTCGGCTTTCATCACAACCTTATGCCTCACGCGAATTCTTCTACTGAAGTCTTGATTCCTCCTATGTGGAGATGGACACCTGTGCTCGCAATAGACCGCACGCAAAACAATCCGCTCTGGACCGTCATGGTACGCCGCGGCTCAGCAGCTCGTATAATTGACAGACGTTCCTGATAATTGATCGGAGAGGTCCCGTGGTCGGGATGCGTGACCTCGTGTTAATTCCGACAAGTGATTGACGGGTCATGTCCGGTGACTGACCGATTAAGCCCGTTATATCGACCTGTTC'\n",
        "t = 'CAGAGACGCATGGACGTGGGAGTTGAGCGAGTTCTGCATTCGTTTCAACGAATTGAACTTGACATCTCTTGTTCTTGGACTAGTTCTCTTTGTGCCAAAAGCGACCTTAACTCTTCTGTTTGGATTGACTGCCTTTTACGTCACATTTTTTGGTGACTCGAGCGACCAATACAGTGCTTTCGAGCGTGTAGGCAAATAAGAGGGCAGCAGAGACTACACGCACCAGCTTTGAACCACGGTCCTAGTTAGCGAATGGTTCAAATGTATGTGACAATCTACATGGTCTTTAGAAAAAGCTCCGCCCACGGATACCGCGAGACTCTTAGCTCATAGTAGGTCAACTACGGGGCTCTAAGAGGAACTTGTCTTCCACATGGGTCCTACGGTTTCAAACTGTAGGTCTAAGTTACGGTGCATGTCGCACAAAATTACGGACTGTCTAAGCTTACCATCTATTCTCATTCACTGTAGAGCCGTTCGCCAAGATTCTATAGGTATAGAGAGATACATTAATGCCAACGTTCAGGATAACTGGGCTTTGGCAGTTATAGGTTTCCCATTCGCAGATTGTGTTAGGTATATAAATAAGCCATACTTTCATTTCGGCTACCTCCCGCACCAGGGTCCGCGACTTGCAGCTCTGACGTGAACGATGTCCCTCTGGGGTATTTGTGTGCTGTTGGCGTGATGGGACTCATGTGGAAATGGTCCCCTTTTCGCGCAATTCACTGCACCTAATACGACCATGTCGTGCCGGTAGGCCTCCGCTGCGGGTTAGCACCCAGTATAATCTTTGGTATTAAAGTGCAATACGCCTGTGAGATCCAATCGTTAGGTTGCGTGGGGTCGCGCTCATGGTGCCGAACTTTTAACAGGGTTTTCACCGTGAAGCTGTCACGAAGCTCATCACCTACATCTCACG' "
      ],
      "execution_count": null,
      "outputs": []
    },
    {
      "cell_type": "code",
      "metadata": {
        "id": "fXxazTF9Mnfo"
      },
      "source": [
        "list = []\n",
        "for i in range(len(s)):\n",
        "  if s[i] != t[i]:\n",
        "      list.append(s[i])\n",
        "print(len(list))      \n",
        "\n"
      ],
      "execution_count": null,
      "outputs": []
    },
    {
      "cell_type": "code",
      "metadata": {
        "id": "Y15QhgZZcLEg"
      },
      "source": [
        "seq1 = input(\"insira sequencia 1: \") #GAGCCTACTAACGGGAT\n",
        "seq2 = input(\"insira sequencia 2: \") #CATCGTAATGACGGCCT\n",
        "\n",
        "seq1.upper()\n",
        "seq2.upper()\n",
        "\n",
        "total = 0\n",
        "for nucleotideo_seq1, nucleotideo_seq2 in zip(seq1, seq2):\n",
        "    if nucleotideo_seq1 != nucleotideo_seq2:\n",
        "        total +=1\n",
        "\n",
        "print(total)"
      ],
      "execution_count": null,
      "outputs": []
    },
    {
      "cell_type": "markdown",
      "metadata": {
        "id": "SUrcMaPxPW0P"
      },
      "source": [
        "#Rabbits and Recurrence Relations* Sindy"
      ]
    },
    {
      "cell_type": "markdown",
      "metadata": {
        "id": "RqEI7b7dPe3n"
      },
      "source": [
        "A sequence is an ordered collection of objects (usually numbers), which are allowed to repeat. Sequences can be finite or infinite. Two examples are the finite sequence (π,−2‾√,0,π) and the infinite sequence of odd numbers (1,3,5,7,9,…). We use the notation an to represent the n-th term of a sequence.\n",
        "\n",
        "A recurrence relation is a way of defining the terms of a sequence with respect to the values of previous terms. In the case of Fibonacci's rabbits from the introduction, any given month will contain the rabbits that were alive the previous month, plus any new offspring. A key observation is that the number of offspring in any month is equal to the number of rabbits that were alive two months prior. As a result,  if Fn represents the number of rabbit pairs alive after the n-th month, then we obtain the Fibonacci sequence having terms Fn that are defined by the recurrence relation Fn=Fn−1+Fn−2 (with F1=F2=1 to initiate the sequence). Although the sequence bears Fibonacci's name, it was known to Indian mathematicians over two millennia ago.\n",
        "\n",
        "When finding the n-th term of a sequence defined by a recurrence relation, we can simply use the recurrence relation to generate terms for progressively larger values of n. This problem introduces us to the computational technique of dynamic programming, which successively builds up solutions by using the answers to smaller cases.\n",
        "\n",
        "Given: Positive integers n≤40 and k≤5.\n",
        "\n",
        "Return: The total number of rabbit pairs that will be present after n\n",
        "months, if we begin with 1 pair and in each generation, every pair of reproduction-age rabbits produces a litter of k rabbit pairs (instead of only 1 pair).\n",
        "\n"
      ]
    },
    {
      "cell_type": "markdown",
      "metadata": {
        "id": "5IIRl6Z5VZyZ"
      },
      "source": [
        "n1= 1,\n",
        "\n",
        "\n",
        "\n",
        "\n",
        "n2 = 1 + k,\n",
        "\n",
        "\n",
        "\n",
        "\n",
        "n3 = n2 + k,\n",
        "\n",
        "\n",
        "\n",
        "\n",
        "nn = n(n-1) + k"
      ]
    },
    {
      "cell_type": "code",
      "metadata": {
        "id": "cGNUi79ffqx-"
      },
      "source": [
        "months = int(input(\"Write the number of months: \"))\n",
        "rabbit_pairs = int(input(\"Write the number of rabbit pairs: \"))\n",
        "\n",
        "def rabbit_recursive(months, rabbit_pairs):\n",
        "  if months < 2:\n",
        "    return months\n",
        "  else:\n",
        "    return rabbit_recursive(months-1, rabbit_pairs) + rabbit_recursive(months-2, rabbit_pairs) + 3 * rabbit_pairs\n",
        "\n",
        "print(rabbit_recursive(months, rabbit_pairs))"
      ],
      "execution_count": null,
      "outputs": []
    },
    {
      "cell_type": "markdown",
      "metadata": {
        "id": "WLsld_v_sm8Z"
      },
      "source": [
        "#Mendel's First Law* Vanessa"
      ]
    },
    {
      "cell_type": "markdown",
      "metadata": {
        "id": "sEH2Ap86jpVs"
      },
      "source": [
        "Probability is the mathematical study of randomly occurring phenomena. We will model such a phenomenon with a random variable, which is simply a variable that can take a number of different distinct outcomes depending on the result of an underlying random process.\n",
        "\n",
        "For example, say that we have a bag containing 3 red balls and 2 blue balls. If we let X represent the random variable corresponding to the color of a drawn ball, then the probability of each of the two outcomes is given by Pr(X=red)=3/5 and Pr(X=blue)=2/5.\n",
        "\n",
        "Random variables can be combined to yield new random variables. Returning to the ball example, let Y model the color of a second ball drawn from the bag (without replacing the first ball). The probability of Y being red depends on whether the first ball was red or blue. To represent all outcomes of X and Y, we therefore use a probability tree diagram. This branching diagram represents all possible individual probabilities for X and Y, with outcomes at the endpoints (\"leaves\") of the tree. The probability of any outcome is given by the product of probabilities along the path from the beginning of the tree; see Figure 2 for an illustrative example.\n",
        "\n",
        "An event is simply a collection of outcomes. Because outcomes are distinct, the probability of an event can be written as the sum of the probabilities of its constituent outcomes. For our colored ball example, let A be the event \"Y is blue.\" Pr(A) is equal to the sum of the probabilities of two different outcomes: Pr(X=blue and Y=blue)+Pr(X=red and Y=blue), or 3/10+1/10=2/5 "
      ]
    },
    {
      "cell_type": "markdown",
      "metadata": {
        "id": "dA3qnwxWtCTs"
      },
      "source": [
        "Given: Three positive integers k, m, and n, representing a population containing k+m+n organisms: k individuals are homozygous dominant for a factor, m are heterozygous, and n are homozygous recessive.\n",
        "\n",
        "Return: The probability that two randomly selected mating organisms will produce an individual possessing a dominant allele (and thus displaying the dominant phenotype). Assume that any two organisms can mate."
      ]
    },
    {
      "cell_type": "code",
      "metadata": {
        "id": "Z7t1hMk-dWqy"
      },
      "source": [
        "def alelo_dominante(k, m, n):\n",
        "  # probabilidade de ter pelo menos 1 alelo dominante 'A'\n",
        "  k_k = k * (k - 1)           # AA x AA --> 100% AA                 ----> (100% A)\n",
        "  k_m = (k * m) * 2           # AA x Aa --> 50% AA, 50% Aa          ----> (100% A)\n",
        "  k_n = (k * n) * 2           # AA x aa --> 100% Aa                 ----> (100% A)\n",
        "  m_m = (m * (m - 1)) * 0.75  # Aa x Aa --> 25% AA, 50% Aa, 25% aa  ----> (75% A)\n",
        "  m_n = ((m * n) * 2) * 0.5   # Aa x aa --> 50% Aa, 50% aa          ----> (50% A)    \n",
        "  \n",
        "  # soma tudo\n",
        "  alelo_dominante = k_k + k_m + k_n + m_n + m_m\n",
        "\n",
        "  # total de indivíduos\n",
        "  total = k + m + n\n",
        "\n",
        "  # probabilidade de ter o alelo dominante\n",
        "  prob_ter_alelo_dominante = alelo_dominante / (total * (total-1))\n",
        "\n",
        "  return prob_ter_alelo_dominante"
      ],
      "execution_count": null,
      "outputs": []
    },
    {
      "cell_type": "code",
      "metadata": {
        "id": "F9UH1V1PeOhd"
      },
      "source": [
        "# chamando a função\n",
        "alelo_dominante(30, 15, 25)"
      ],
      "execution_count": null,
      "outputs": []
    },
    {
      "cell_type": "markdown",
      "metadata": {
        "id": "6JO8JE3IH96S"
      },
      "source": [
        "#Finding a Motif in DNA\n",
        "\n",
        "Given two strings s and t, t is a substring of s if t is contained as a contiguous collection of symbols in s (as a result, t must be no longer than s).\n",
        "\n",
        "The position of a symbol in a string is the total number of symbols found to its left, including itself (e.g., the positions of all occurrences of 'U' in \"AUGCUUCAGAAAGGUCUUACG\" are 2, 5, 6, 15, 17, and 18). The symbol at position i of s is denoted by s[i].\n",
        "\n",
        "A substring of s can be represented as s[j:k], where j and k represent the starting and ending positions of the substring in s; for example, if s = \"AUGCUUCAGAAAGGUCUUACG\", then s[2:5] = \"UGCU\".\n",
        "\n",
        "The location of a substring s[j:k] is its beginning position j; note that t will have multiple locations in s if it occurs more than once as a substring of s (see the Sample below).\n",
        "\n",
        "Given: Two DNA strings s and t (each of length at most 1 kbp)\n",
        "\n",
        "Return: All locations of t as a substring of s\n",
        "\n"
      ]
    },
    {
      "cell_type": "code",
      "metadata": {
        "id": "nijB1ffUH9nE"
      },
      "source": [
        "s = 'CCCACACCCCACACACCCACACCTATATCCCACACACCCCACACTCAATGCCCACACGTCGGGCGCCCACACTACGGACTACCCACACGCGCCCACACCAAGGGATCCCACACGGTAAGAACCCACACTACACCCACACCCCACACCATCGCGTACCCACACGACCCCACACCCCACACTCCCACACCGACGATCCCACACTCCCACACGTACCCCCACACACAGTGCACCCACACACCCACACGCCCCACACAGCCCACACCCCACACCCCACACATGCCCACACTTCTGCCCACACGGCCCACACGAAGCGCCCACACTCCCACACGTCCCCACACTCAGGATCCCACACCCCCCACACACCCCACACCCCACACCCCCACACGTCCCCACACCCCCACACTCCCACACGGACACCCACACCCCACACCCCACACCTCCCACACCAATCCCACACCCCTCCCACACGTCAGCCCCACACCCCACACTACAATTACCCACACCCCACACTAGATCCCACACCCCACACCCCACACAAGCTGCCCCACACACCCACACTTCCCCCACACCCCACACACGTCCCACACCGCCCCACACGCCTACCCACACCCCACACCCCCCACACAGCACACCGGCTATGGCCCACACGCCCACACAATCCCACACACCCACACGCCCCACACCTGCCCACACGTCCCACACAAGCCCACACCCCACACCTACTCCCACACACCCACACCCCGCCCACACTCCCACACACCCCCACACTGGTCCCACACGGAACCCACACCAGACCCACACCCCACACCACGGCCCACACCCCACACAGCGCCCACACCCCACACCCCACACCCCACAC'\n",
        "t = 'CCCACACCC'"
      ],
      "execution_count": null,
      "outputs": []
    },
    {
      "cell_type": "code",
      "metadata": {
        "id": "oM1UX0osOKb5"
      },
      "source": [
        "k = len(t)\n",
        "for i in range(len(s)):\n",
        "  if s[i:i+k] == t:  \n",
        "    print(i+1, end=' ')"
      ],
      "execution_count": null,
      "outputs": []
    },
    {
      "cell_type": "markdown",
      "metadata": {
        "id": "Zw1Ssar5z2CB"
      },
      "source": [
        "# Overlap Graphs\n",
        "\n",
        "A graph whose nodes have all been labeled can be represented by an adjacency list, in which each row of the list contains the two node labels corresponding to a unique edge.\n",
        "\n",
        "A directed graph (or digraph) is a graph containing directed edges, each of which has an orientation. That is, a directed edge is represented by an arrow instead of a line segment; the starting and ending nodes of an edge form its tail and head, respectively. The directed edge with tail v and head w is represented by (v,w) (but not by (w,v)). A directed loop is a directed edge of the form (v,v).\n",
        "\n",
        "For a collection of strings and a positive integer k, the overlap graph for the strings is a directed graph Ok in which each string is represented by a node, and string s is connected to string t with a directed edge when there is a length k suffix of s that matches a length k prefix of t, as long as s≠t; we demand s≠t to prevent directed loops in the overlap graph (although directed cycles may be present).\n",
        "\n",
        "Given: A collection of DNA strings in FASTA format having total length at most 10 kbp.\n",
        "\n",
        "Return: The adjacency list corresponding to O3. You may return edges in any order."
      ]
    },
    {
      "cell_type": "code",
      "metadata": {
        "colab": {
          "resources": {
            "http://localhost:8080/nbextensions/google.colab/files.js": {
              "data": "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",
              "ok": true,
              "headers": [
                [
                  "content-type",
                  "application/javascript"
                ]
              ],
              "status": 200,
              "status_text": ""
            }
          },
          "base_uri": "https://localhost:8080/",
          "height": 111
        },
        "id": "u6uSF9Gaz6wR",
        "outputId": "91e333e8-ad95-485a-a35f-6e17b6675184"
      },
      "source": [
        "from google.colab import files\n",
        "files.upload()"
      ],
      "execution_count": null,
      "outputs": [
        {
          "output_type": "display_data",
          "data": {
            "text/html": [
              "\n",
              "     <input type=\"file\" id=\"files-92c888de-71a8-4518-90f0-0680fd985ccd\" name=\"files[]\" multiple disabled\n",
              "        style=\"border:none\" />\n",
              "     <output id=\"result-92c888de-71a8-4518-90f0-0680fd985ccd\">\n",
              "      Upload widget is only available when the cell has been executed in the\n",
              "      current browser session. Please rerun this cell to enable.\n",
              "      </output>\n",
              "      <script src=\"/nbextensions/google.colab/files.js\"></script> "
            ],
            "text/plain": [
              "<IPython.core.display.HTML object>"
            ]
          },
          "metadata": {}
        },
        {
          "output_type": "stream",
          "name": "stdout",
          "text": [
            "Saving teste2.txt to teste2.txt\n"
          ]
        },
        {
          "output_type": "execute_result",
          "data": {
            "text/plain": [
              "{'teste2.txt': b'>Rosalind_0498\\nAAATAAA\\n>Rosalind_2391\\nAAATTTT\\n>Rosalind_2323\\nTTTTCCC\\n>Rosalind_0442\\nAAATCCC\\n>Rosalind_5013\\nGGGTGGG'}"
            ]
          },
          "metadata": {},
          "execution_count": 30
        }
      ]
    },
    {
      "cell_type": "code",
      "metadata": {
        "colab": {
          "base_uri": "https://localhost:8080/"
        },
        "id": "3PYFiWm6uo3q",
        "outputId": "2ff4b7e8-e4ba-4913-96dc-e8e0d9882194"
      },
      "source": [
        "with open (\"teste2.txt\", \"r\") as arquivo:\n",
        "  t= arquivo.read()\n",
        "print(t)"
      ],
      "execution_count": null,
      "outputs": [
        {
          "output_type": "stream",
          "name": "stdout",
          "text": [
            ">Rosalind_0498\n",
            "AAATAAA\n",
            ">Rosalind_2391\n",
            "AAATTTT\n",
            ">Rosalind_2323\n",
            "TTTTCCC\n",
            ">Rosalind_0442\n",
            "AAATCCC\n",
            ">Rosalind_5013\n",
            "GGGTGGG\n"
          ]
        }
      ]
    },
    {
      "cell_type": "code",
      "metadata": {
        "id": "bYRNioVhy0tI"
      },
      "source": [
        "d= dict()\n",
        "\n",
        "for es in t[1:]:\n",
        "  es = es.split()\n",
        "  s = \"\"\n",
        "  i = 1\n",
        "  while i < len(es):\n",
        "    s += es[i]\n",
        "    i += 1\n",
        "    d[es[0]] = s"
      ],
      "execution_count": null,
      "outputs": []
    },
    {
      "cell_type": "code",
      "metadata": {
        "id": "90-dk8KvzYq9"
      },
      "source": [
        "d"
      ],
      "execution_count": null,
      "outputs": []
    }
  ]
}